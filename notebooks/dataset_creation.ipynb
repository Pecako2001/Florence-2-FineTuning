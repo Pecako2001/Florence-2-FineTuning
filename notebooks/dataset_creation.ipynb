{
 "cells": [
  {
   "cell_type": "markdown",
   "id": "a8dcad10",
   "metadata": {},
   "source": [
    "# Dataset Creation"
   ]
  },
  {
   "cell_type": "markdown",
   "id": "c4141446",
   "metadata": {},
   "source": [
    "This notebook explains how to create a dataset for fine-tuning Florence-2."
   ]
  },
  {
   "cell_type": "markdown",
   "id": "232e1932",
   "metadata": {},
   "source": [
    "Run the GUI tool:"
   ]
  },
  {
   "cell_type": "code",
   "execution_count": null,
   "id": "f2550cb7",
   "metadata": {},
   "outputs": [],
   "source": [
    "!python scripts/createdataset.py"
   ]
  },
  {
   "cell_type": "markdown",
   "id": "4585614d",
   "metadata": {},
   "source": [
    "Follow the prompts to label each image. All files are saved in a `dataset/` folder."
   ]
  }
 ],
 "metadata": {},
 "nbformat": 4,
 "nbformat_minor": 5
}
