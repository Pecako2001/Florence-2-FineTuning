{
 "cells": [
  {
   "cell_type": "markdown",
   "id": "a29a9621",
   "metadata": {},
   "source": [
    "# Training"
   ]
  },
  {
   "cell_type": "markdown",
   "id": "9ebc12ab",
   "metadata": {},
   "source": [
    "Use this notebook to fine-tune Florence-2 on your dataset."
   ]
  },
  {
   "cell_type": "code",
   "execution_count": null,
   "id": "676ca643",
   "metadata": {},
   "outputs": [],
   "source": [
    "!python scripts/train.py --dataset_folder dataset --epochs 2"
   ]
  },
  {
   "cell_type": "markdown",
   "id": "22502845",
   "metadata": {},
   "source": [
    "Training progress and loss graphs will be saved to the project root."
   ]
  }
 ],
 "metadata": {},
 "nbformat": 4,
 "nbformat_minor": 5
}
