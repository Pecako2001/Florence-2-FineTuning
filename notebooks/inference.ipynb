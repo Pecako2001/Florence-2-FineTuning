{
 "cells": [
  {
   "cell_type": "markdown",
   "id": "e640cea3",
   "metadata": {},
   "source": [
    "# Inference"
   ]
  },
  {
   "cell_type": "markdown",
   "id": "294856dc",
   "metadata": {},
   "source": [
    "After training, use this notebook to run the model on new images."
   ]
  },
  {
   "cell_type": "code",
   "execution_count": null,
   "id": "8c261754",
   "metadata": {},
   "outputs": [],
   "source": [
    "!python scripts/val.py --task_prompt \"CAPTION\" --text_input \"What is in the image?\" --image_path path/to/image.png --model_dir model_checkpoints/epoch_2"
   ]
  },
  {
   "cell_type": "markdown",
   "id": "f35acb97",
   "metadata": {},
   "source": [
    "The script displays the image next to the generated result."
   ]
  }
 ],
 "metadata": {},
 "nbformat": 4,
 "nbformat_minor": 5
}
